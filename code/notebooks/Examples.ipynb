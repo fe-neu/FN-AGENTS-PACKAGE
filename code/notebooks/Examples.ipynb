{
 "cells": [
  {
   "cell_type": "markdown",
   "id": "5c8766b5",
   "metadata": {},
   "source": [
    "# Examples Notebook for `fn_package` – A Python Package for a Modular Multi-Agent System\n",
    "\n",
    "This repository provides the codebase for a modular multi-agent system designed for **document retrieval, memory management, and code execution** in Python environments.\n",
    "\n",
    "The primary goal of this project was to build an **easily extensible and modular agent system** using only standard Python, without relying on external frameworks. This choice was made for **educational purposes**, to ensure transparency and a deeper understanding of the underlying mechanisms.\n",
    "\n",
    "This notebook demonstrates how to use the package at a high level.  \n",
    "For details on the individual components, consult the `README.md` file or explore the package code directly.\n",
    "\n",
    "> **Note**: This notebook serves as **documentation** rather than a playground.\n"
   ]
  },
  {
   "cell_type": "markdown",
   "id": "c9ad0937",
   "metadata": {},
   "source": [
    "## Before We Start\n",
    "\n",
    "It is recommended to install the provided environment from `environment.yml` as a Conda environment.  \n",
    "The package has only been tested with this setup, so compatibility with other installations cannot be guaranteed.\n",
    "\n",
    "To run the package, you will also need to create a `.env` file based on the `.env.template`.  \n",
    "Simply rename the template to `.env` and insert your own **OpenAI API key**.  \n",
    "This file can also be used for additional configuration options.\n",
    "\n",
    "As mentioned earlier, these are **example usages** intended for demonstration purposes.  \n",
    "The code shown here is **not meant to be executed as-is**."
   ]
  },
  {
   "cell_type": "markdown",
   "id": "24e03325",
   "metadata": {},
   "source": [
    "## Chats\n",
    "\n",
    "For a quick interactive chat example that demonstrates the full agent suite, you can use:\n",
    "\n",
    "    from fn_package import start_example_chat\n",
    "\n",
    "This is the same entry point used in `scripts/run_demo.py`.  \n",
    "\n",
    "In addition to the built-in demo, you can also create your own interactive chats.  \n",
    "To do this, we will construct a custom `ConversationHandler`."
   ]
  },
  {
   "cell_type": "code",
   "execution_count": null,
   "id": "03b90079",
   "metadata": {},
   "outputs": [],
   "source": [
    "from fn_package.conversation import ConversationHandler\n",
    "\n",
    "conversation_handler = ConversationHandler()"
   ]
  },
  {
   "cell_type": "markdown",
   "id": "c7d0b255",
   "metadata": {},
   "source": [
    "Next, we will add various **prebuilt agents** to our `ConversationHandler`.  \n",
    "These agents represent different roles and capabilities within the system, allowing us to compose more complex interactions."
   ]
  },
  {
   "cell_type": "markdown",
   "id": "91aec97c",
   "metadata": {},
   "source": [
    "## Agents\n",
    "\n",
    "This package includes several **prebuilt agents**, each of which inherits from the abstract base class `Agent`.  \n",
    "This design ensures consistency and makes it easy to extend the system with custom agents.\n",
    "\n",
    "Using an agent within a team is straightforward: simply **register it with the `ConversationHandler`**.  \n",
    "Keep in mind that some agents may require additional services from `fn_package.retrieval` to function properly."
   ]
  },
  {
   "cell_type": "code",
   "execution_count": null,
   "id": "0d872644",
   "metadata": {},
   "outputs": [],
   "source": [
    "# Creating a Shared Memory Service\n",
    "\n",
    "# The `MemoryService` provides a shared memory layer that keeps track of everything the agents remember about the user.  \n",
    "# All agents can access this service, ensuring a consistent memory state across the system.\n",
    "\n",
    "from fn_package.retrieval import MemoryService\n",
    "\n",
    "memory_service = MemoryService()"
   ]
  },
  {
   "cell_type": "code",
   "execution_count": null,
   "id": "9e1aff67",
   "metadata": {},
   "outputs": [],
   "source": [
    "# Creating a HeadAgent  \n",
    "\n",
    "# The `HeadAgent` serves as the **manager of the agent team**, coordinating interactions and overseeing the overall conversation flow.\n",
    "\n",
    "from fn_package.agents import HeadAgent\n",
    "\n",
    "head_agent = HeadAgent(agent_id=\"HeadAgent1\", name=\"HeadAgent\", memory=memory_service)"
   ]
  },
  {
   "cell_type": "markdown",
   "id": "a47a8329",
   "metadata": {},
   "source": [
    "## Tools\n",
    "\n",
    "Agents can also make use of different **tools**.  \n",
    "All tools in this package inherit from the abstract base class `Tool`, ensuring a consistent interface and easy extensibility.\n",
    "\n",
    "To enable an agent to use specific tools, they are placed into a `ToolRegistry`, which is then provided to the agent.  \n",
    "Most of the prebuilt agents already come with their own tool sets defined, but you can easily extend or replace them.\n"
   ]
  },
  {
   "cell_type": "code",
   "execution_count": null,
   "id": "c67ecfcd",
   "metadata": {},
   "outputs": [],
   "source": [
    "from fn_package.agents.shared import ToolRegistry\n",
    "tool_registry = ToolRegistry()\n",
    "\n",
    "from fn_package.agents.shared.tools import Tool\n",
    "tool = Tool() # This would usually be a real tool, not the abstract base class\n",
    "\n",
    "tool_registry.register(tool)\n",
    "\n",
    "from fn_package.agents import Agent\n",
    "new_agent = Agent(tools=tool_registry) # This would usually be a real agent, not the abstract base class"
   ]
  },
  {
   "cell_type": "markdown",
   "id": "f22e4773",
   "metadata": {},
   "source": [
    "## Filling the ConversationHandler\n",
    "\n",
    "Next, we will register our agents with the `ConversationHandler`.  \n",
    "After this step, the handler is ready to start an interactive chat using our custom-assembled agent team."
   ]
  },
  {
   "cell_type": "code",
   "execution_count": null,
   "id": "c93f82ac",
   "metadata": {},
   "outputs": [],
   "source": [
    "# Registering the Head Agent\n",
    "conversation_handler.register_agent(head_agent)\n",
    "\n",
    "# Registering the Example Second Agent\n",
    "conversation_handler.register_agent(new_agent)\n",
    "\n",
    "from fn_package import start_chat_from_conversation_handler\n",
    "\n",
    "start_chat_from_conversation_handler(conversation_handler)"
   ]
  },
  {
   "cell_type": "markdown",
   "id": "df676bd4",
   "metadata": {},
   "source": [
    "To experience a fully working demo, run `scripts/run_demo.py` as described in the `README.md`."
   ]
  }
 ],
 "metadata": {
  "kernelspec": {
   "display_name": "dhbw-ml-env",
   "language": "python",
   "name": "python3"
  },
  "language_info": {
   "codemirror_mode": {
    "name": "ipython",
    "version": 3
   },
   "file_extension": ".py",
   "mimetype": "text/x-python",
   "name": "python",
   "nbconvert_exporter": "python",
   "pygments_lexer": "ipython3",
   "version": "3.10.18"
  }
 },
 "nbformat": 4,
 "nbformat_minor": 5
}
